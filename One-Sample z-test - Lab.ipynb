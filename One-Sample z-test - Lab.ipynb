{
 "cells": [
  {
   "cell_type": "markdown",
   "metadata": {},
   "source": [
    "# One-Sample z-test - Lab\n",
    "\n",
    "## Introduction\n",
    "In this lab, you'll perform a few quick tests to help you better understand how hypothesis testing works.\n",
    "\n",
    "## Objectives\n",
    "You will be able to:\n",
    "\n",
    "* Explain use cases for a 1-sample z-test\n",
    "* Set up null and alternative hypotheses\n",
    "* Use the z-table and scipy methods to acquire the p value for a given z-score\n",
    "* Calculate and interpret p-value for significance of results\n",
    "\n",
    "## Exercise 1\n",
    "A fast-food chain claims that the mean time to order food at their restaurants is 60 seconds, with a standard deviation of 30 seconds. You decide to put this claim to the test and go to one of the restaurants to observe actual waiting times. You take a sample of 36 customers and find that the mean order time was 75 seconds. Does this finding provide enough evidence to contradict the fast food chain's claim of fast service?\n",
    "\n",
    "Follow the 5 steps shown in previous lesson and use $\\alpha$ = 0.05. "
   ]
  },
  {
   "cell_type": "code",
   "execution_count": 2,
   "metadata": {},
   "outputs": [],
   "source": [
    "import numpy as np\n",
    "import scipy.stats as stats"
   ]
  },
  {
   "cell_type": "code",
   "execution_count": 1,
   "metadata": {},
   "outputs": [],
   "source": [
    "mu = 60 #population mean\n",
    "sigma = 30 #std\n",
    "n = 36 #sample size\n",
    "x_bar = 75 #sample mean\n",
    "alpha = 0.05 #significance level"
   ]
  },
  {
   "cell_type": "code",
   "execution_count": null,
   "metadata": {},
   "outputs": [],
   "source": [
    "# State your null and alternative hypotheses\n",
    "\n",
    "#H0: mean order time <= 60 sec\n",
    "\n",
    "#Ha: mean order time > 60 sec"
   ]
  },
  {
   "cell_type": "code",
   "execution_count": 6,
   "metadata": {},
   "outputs": [
    {
     "name": "stdout",
     "output_type": "stream",
     "text": [
      "z: 3.0\n",
      "z_val: 0.9986501019683699\n",
      "p_val: 0.0013498980316301035\n"
     ]
    }
   ],
   "source": [
    "# Your solution here\n",
    "z = (x_bar - mu) / (sigma / np.sqrt(n))\n",
    "print(f'z: {z}')\n",
    "\n",
    "z_val = stats.norm.cdf(z)\n",
    "print(f'z_val: {z_val}')\n",
    "\n",
    "p_val = 1 - z_val\n",
    "print(f'p_val: {p_val}')\n",
    "# (p = 0.0013498980316301035, z = 3.0)"
   ]
  },
  {
   "cell_type": "markdown",
   "metadata": {},
   "source": [
    "# Interpret the results in terms of the p-value\n",
    "p_val is smaller than alpha: given the evidence, the results show a significantly longer waiting time (longer than 60 sec) hence the Null Hypothesis is rejected.\n"
   ]
  },
  {
   "cell_type": "markdown",
   "metadata": {},
   "source": [
    "## Exercise 2\n",
    "\n",
    "25 students complete a preparation program for taking the SAT test.  Here are the SAT scores from the 25 students who completed the program:\n",
    "\n",
    "``\n",
    "434 694 457 534 720 400 484 478 610 641 425 636 454 \n",
    "514 563 370 499 640 501 625 612 471 598 509 531\n",
    "``\n",
    "\n",
    "We know that the population average for SAT scores is 500 with a standard deviation of 100.\n",
    "\n",
    "Are our 25 students’ SAT scores significantly higher than the population's mean score? \n",
    "\n",
    "*Note that the SAT preparation program claims that it will increase (and not decrease) the SAT score.  So, you can conduct a one-directional test. (alpha = .05).*"
   ]
  },
  {
   "cell_type": "code",
   "execution_count": 18,
   "metadata": {},
   "outputs": [],
   "source": [
    "# State your hypotheses \n",
    "mu = 500\n",
    "sigma = 100\n",
    "alpha = 0.05\n",
    "\n",
    "#alternative hypothesis: SAT score increases afterp prep = mean score > 500\n",
    "#null hypothesis: SAT score does not increase after prep = mean score <= 500"
   ]
  },
  {
   "cell_type": "code",
   "execution_count": 19,
   "metadata": {},
   "outputs": [],
   "source": [
    "students = '434 694 457 534 720 400 484 478 610 641 425 636 454 514 563 370 499 640 501 625 612 471 598 509 531'"
   ]
  },
  {
   "cell_type": "code",
   "execution_count": 20,
   "metadata": {
    "scrolled": false
   },
   "outputs": [
    {
     "data": {
      "text/plain": [
       "[434,\n",
       " 694,\n",
       " 457,\n",
       " 534,\n",
       " 720,\n",
       " 400,\n",
       " 484,\n",
       " 478,\n",
       " 610,\n",
       " 641,\n",
       " 425,\n",
       " 636,\n",
       " 454,\n",
       " 514,\n",
       " 563,\n",
       " 370,\n",
       " 499,\n",
       " 640,\n",
       " 501,\n",
       " 625,\n",
       " 612,\n",
       " 471,\n",
       " 598,\n",
       " 509,\n",
       " 531]"
      ]
     },
     "execution_count": 20,
     "metadata": {},
     "output_type": "execute_result"
    }
   ],
   "source": [
    "[int(x) for x in students.split()]"
   ]
  },
  {
   "cell_type": "code",
   "execution_count": 21,
   "metadata": {},
   "outputs": [
    {
     "data": {
      "text/plain": [
       "536.0"
      ]
     },
     "execution_count": 21,
     "metadata": {},
     "output_type": "execute_result"
    }
   ],
   "source": [
    "student_average = np.mean([int(x) for x in students.split()])\n",
    "student_average"
   ]
  },
  {
   "cell_type": "code",
   "execution_count": 25,
   "metadata": {},
   "outputs": [
    {
     "name": "stdout",
     "output_type": "stream",
     "text": [
      "z: 1.8\n",
      "z_val: 0.9640696808870742\n",
      "p_val: 0.03593031911292577\n"
     ]
    }
   ],
   "source": [
    "# Give your solution here \n",
    "\n",
    "x_bar = student_average\n",
    "\n",
    "z = (x_bar - mu) / (sigma / np.sqrt(25))\n",
    "print(f'z: {z}')\n",
    "\n",
    "z_val = stats.norm.cdf(z)\n",
    "print(f'z_val: {z_val}')\n",
    "\n",
    "p_val = 1 - z_val\n",
    "print(f'p_val: {p_val}')\n",
    "\n",
    "# p = 0.03593031911292577, z = 1.8"
   ]
  },
  {
   "cell_type": "code",
   "execution_count": 26,
   "metadata": {},
   "outputs": [],
   "source": [
    "# Interpret the results in terms of the p-value\n",
    "\n",
    "#p_val is smaller than significance level of 0.05: given the evidence, the result shows that there is a significant increase in SAT score after prep"
   ]
  },
  {
   "cell_type": "markdown",
   "metadata": {},
   "source": [
    "## Summary\n",
    "\n",
    "In this lesson, you conducted a couple of simple tests comparing sample and population means, in an attempt to reject our null hypotheses. This provides you with a strong foundation to move ahead with more advanced tests and approaches later on."
   ]
  },
  {
   "cell_type": "code",
   "execution_count": null,
   "metadata": {},
   "outputs": [],
   "source": []
  }
 ],
 "metadata": {
  "kernelspec": {
   "display_name": "Python 3",
   "language": "python",
   "name": "python3"
  },
  "language_info": {
   "codemirror_mode": {
    "name": "ipython",
    "version": 3
   },
   "file_extension": ".py",
   "mimetype": "text/x-python",
   "name": "python",
   "nbconvert_exporter": "python",
   "pygments_lexer": "ipython3",
   "version": "3.8.5"
  },
  "toc": {
   "base_numbering": 1,
   "nav_menu": {},
   "number_sections": true,
   "sideBar": true,
   "skip_h1_title": false,
   "title_cell": "Table of Contents",
   "title_sidebar": "Contents",
   "toc_cell": false,
   "toc_position": {},
   "toc_section_display": true,
   "toc_window_display": false
  }
 },
 "nbformat": 4,
 "nbformat_minor": 2
}
