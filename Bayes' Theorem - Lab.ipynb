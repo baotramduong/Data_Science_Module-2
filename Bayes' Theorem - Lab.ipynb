{
 "cells": [
  {
   "cell_type": "markdown",
   "metadata": {},
   "source": [
    "# Bayes' Theorem - Lab\n",
    "\n",
    "## Introduction\n",
    "\n",
    "In this lab, you'll practice Bayes' Theorem in some simple word problems. \n",
    "\n",
    "## Objectives\n",
    "In this lab you will be able to: \n",
    "\n",
    "- Use Bayes' theorem to determine the probability of specific events "
   ]
  },
  {
   "cell_type": "markdown",
   "metadata": {},
   "source": [
    "## Define a custom function for Bayes' theorem\n",
    "\n",
    "To start, write a function, `bayes()`, which takes in the probability of A, the probability of B, and the probability of B given A. From this, the function should then return the conditional probability of A, given that B is true."
   ]
  },
  {
   "cell_type": "code",
   "execution_count": 19,
   "metadata": {},
   "outputs": [],
   "source": [
    "def bayes(P_a, P_b, P_b_given_a):\n",
    "    # Your code here\n",
    "    P_a_given_b = (P_b_given_a * P_a)/P_b\n",
    "    return P_a_given_b"
   ]
  },
  {
   "cell_type": "markdown",
   "metadata": {},
   "source": [
    "## Skin Cancer\n",
    "\n",
    "After a physical exam, a doctor observes a blemish on a client's arm. The doctor is concerned that the blemish could be cancerous, but tells the patient to be calm and that it's probably benign. Of those with skin cancer, 100% have such blemishes. However, 20% of those without skin cancer also have such blemishes. If 15% of the population has skin cancer, what's the probability that this patient has skin cancer? \n",
    "\n",
    "> Hint: Be sure to calculate the overall rate of blemishes across the entire population."
   ]
  },
  {
   "cell_type": "code",
   "execution_count": 20,
   "metadata": {},
   "outputs": [
    {
     "name": "stdout",
     "output_type": "stream",
     "text": [
      "0.46875\n"
     ]
    }
   ],
   "source": [
    "# Your code here\n",
    "P_b = 1*.15 + .85*.2\n",
    "P_cancer_given_blemish = bayes(.15, P_b, 1)\n",
    "print(P_cancer_given_blemish)"
   ]
  },
  {
   "cell_type": "markdown",
   "metadata": {},
   "source": [
    "## Children (I) \n",
    "\n",
    "A couple has two children, the older of which is a boy. What is the probability that they have two boys?"
   ]
  },
  {
   "cell_type": "code",
   "execution_count": 21,
   "metadata": {},
   "outputs": [
    {
     "data": {
      "text/plain": [
       "0.5"
      ]
     },
     "execution_count": 21,
     "metadata": {},
     "output_type": "execute_result"
    }
   ],
   "source": [
    "# Your solution P(2boys|older child is a boy)\n",
    "P_a = 1/4 # Probability of 2 boys\n",
    "P_b = .5 # Probability older child is a boy\n",
    "P_b_given_a = 1 # Probability older child is a boy if 2 boys\n",
    "bayes(P_a, P_b, P_b_given_a)"
   ]
  },
  {
   "cell_type": "markdown",
   "metadata": {},
   "source": [
    "## Children  (II)\n",
    "\n",
    "A couple has two children, one of which is a boy. What is the probability that they have two boys?"
   ]
  },
  {
   "cell_type": "code",
   "execution_count": 22,
   "metadata": {},
   "outputs": [
    {
     "data": {
      "text/plain": [
       "0.3333333333333333"
      ]
     },
     "execution_count": 22,
     "metadata": {},
     "output_type": "execute_result"
    }
   ],
   "source": [
    "# Your solution P(2boys|1 of 2 children is a boy)\n",
    "P_a = 1/4 # Probability of 2 boys\n",
    "P_b = 3/4 # Probability 1 of 2 children is a boy\n",
    "P_b_given_a  = 1 # Probability of 1 of 2 children being a boy, given both are boys\n",
    "bayes(P_a, P_b, P_b_given_a)"
   ]
  },
  {
   "cell_type": "markdown",
   "metadata": {},
   "source": [
    "## A diagnostic test\n",
    "\n",
    "A diagnostic test is advertised as being 99% accurate \n",
    "\n",
    "* If a patient has the disease, they  will test positive 99% of the time \n",
    "\n",
    "* If they don't have the disease, they will test negative 99% of the time  \n",
    "\n",
    "* 1% of all people have this disease \n",
    "\n",
    "If a patient tests positive, what is the probability that they actually have the disease?"
   ]
  },
  {
   "cell_type": "code",
   "execution_count": 23,
   "metadata": {},
   "outputs": [
    {
     "data": {
      "text/plain": [
       "0.5"
      ]
     },
     "execution_count": 23,
     "metadata": {},
     "output_type": "execute_result"
    }
   ],
   "source": [
    "# Your solution\n",
    "P_a = .01 # Probability of disease\n",
    "P_b = (0.01*0.99) + (0.99 *0.01) # Probability of testing positive\n",
    "P_b_given_a = .99 # Probability of testing positive given diseas\n",
    "bayes(P_a, P_b, P_b_given_a)"
   ]
  },
  {
   "cell_type": "markdown",
   "metadata": {},
   "source": [
    "## Summary \n",
    "\n",
    "In this lab, you practiced a few simple examples of Bayesian logic and how you can add prior information to update your beliefs about the chance of events."
   ]
  }
 ],
 "metadata": {
  "kernelspec": {
   "display_name": "Python 3",
   "language": "python",
   "name": "python3"
  },
  "language_info": {
   "codemirror_mode": {
    "name": "ipython",
    "version": 3
   },
   "file_extension": ".py",
   "mimetype": "text/x-python",
   "name": "python",
   "nbconvert_exporter": "python",
   "pygments_lexer": "ipython3",
   "version": "3.8.5"
  }
 },
 "nbformat": 4,
 "nbformat_minor": 2
}
