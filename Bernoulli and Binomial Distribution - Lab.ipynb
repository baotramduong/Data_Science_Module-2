{
 "cells": [
  {
   "cell_type": "markdown",
   "metadata": {},
   "source": [
    "# Bernoulli and Binomial Distribution - Lab\n",
    "\n",
    "## Introduction\n",
    "In this lab, you'll practice your newly gained knowledge on the Bernoulli and Binomial Distribution.\n",
    "\n",
    "## Objectives\n",
    "You will be able to:\n",
    "\n",
    "* Apply the formulas for the Binomial and Bernoulli distribution to calculate the probability of a specific event\n",
    "* Use `numpy` to randomly generate Binomial and Bernoulli trials\n",
    "* Use `matplotlib` to show the output of generated Binomial and Bernoulli trials\n",
    "\n",
    "## Apply the formulas for the Binomial and Bernoulli distributions\n",
    "\n",
    "When playing a game of bowling, what is the probability of throwing exactly 3 strikes in a game with 10 rounds? Assume that the probability of throwing a strike is 25% for each round. Use the formula for the Binomial distribution to get to the answer. You've created this before, so we provide you with the function for factorials again:"
   ]
  },
  {
   "cell_type": "code",
   "execution_count": 1,
   "metadata": {},
   "outputs": [],
   "source": [
    "def factorial(n):\n",
    "    prod = 1\n",
    "    while n >= 1:\n",
    "        prod = prod * n\n",
    "        n = n - 1\n",
    "    return prod"
   ]
  },
  {
   "cell_type": "code",
   "execution_count": 3,
   "metadata": {},
   "outputs": [
    {
     "data": {
      "text/plain": [
       "0.25028228759765625"
      ]
     },
     "execution_count": 3,
     "metadata": {},
     "output_type": "execute_result"
    }
   ],
   "source": [
    "n = 10\n",
    "k = 3\n",
    "p = 0.25\n",
    "\n",
    "p_3_strikes = (factorial(n) / (factorial(n-k) * factorial(k))) * (p**k) * ((1-p)**(n-k))\n",
    "p_3_strikes\n",
    "\n",
    "#answer = 0.2502822"
   ]
  },
  {
   "cell_type": "markdown",
   "metadata": {},
   "source": [
    "Now, create a function for the Binomial distribution with three arguments $n$, $p$ and $k$ just like in the formula:\n",
    "\n",
    "$$ \\large P(Y=k)= \\binom{n}{k} p^k(1-p)^{(n-k)}$$ \n"
   ]
  },
  {
   "cell_type": "code",
   "execution_count": 4,
   "metadata": {},
   "outputs": [],
   "source": [
    "def binom_distr(n,p,k):\n",
    "    return (factorial(n) / (factorial(n-k) * factorial(k))) * (p**k) * ((1-p)**(n-k))"
   ]
  },
  {
   "cell_type": "markdown",
   "metadata": {},
   "source": [
    "Validate your previous result by applying your new function."
   ]
  },
  {
   "cell_type": "code",
   "execution_count": 5,
   "metadata": {},
   "outputs": [
    {
     "data": {
      "text/plain": [
       "0.25028228759765625"
      ]
     },
     "execution_count": 5,
     "metadata": {},
     "output_type": "execute_result"
    }
   ],
   "source": [
    "# Your code here\n",
    "binom_distr(10,0.25,3)"
   ]
  },
  {
   "cell_type": "markdown",
   "metadata": {},
   "source": [
    "Now write a `for` loop along with your function to compute the probability that you have five strikes or more in one game. You'll want to use `numpy` here!"
   ]
  },
  {
   "cell_type": "code",
   "execution_count": 7,
   "metadata": {},
   "outputs": [
    {
     "name": "stdout",
     "output_type": "stream",
     "text": [
      "Prob of 5 strikes: 0.058399200439453125\n",
      "Prob of 6 strikes: 0.016222000122070312\n",
      "Prob of 7 strikes: 0.00308990478515625\n",
      "Prob of 8 strikes: 0.00038623809814453125\n",
      "Prob of 9 strikes: 2.86102294921875e-05\n",
      "Prob of 10 strikes: 9.5367431640625e-07\n",
      "Prob of 11 strikes: 2.8899221709280304e-08\n"
     ]
    },
    {
     "data": {
      "text/plain": [
       "0.07812693624785452"
      ]
     },
     "execution_count": 7,
     "metadata": {},
     "output_type": "execute_result"
    }
   ],
   "source": [
    "import numpy as np\n",
    "\n",
    "# Your code here\n",
    "my_prob = 0\n",
    "\n",
    "for i in range(5, 12):\n",
    "    print (f'Prob of {i} strikes: {binom_distr(10, 0.25, i)}')\n",
    "    my_prob += binom_distr(10, 0.25, i)\n",
    "my_prob"
   ]
  },
  {
   "cell_type": "markdown",
   "metadata": {},
   "source": [
    "## Use a simulation to get the probabilities for all the potential outcomes\n",
    "\n",
    "Repeat the experiment 5000 times."
   ]
  },
  {
   "cell_type": "code",
   "execution_count": 8,
   "metadata": {
    "scrolled": true
   },
   "outputs": [
    {
     "data": {
      "text/plain": [
       "3"
      ]
     },
     "execution_count": 8,
     "metadata": {},
     "output_type": "execute_result"
    }
   ],
   "source": [
    "# leave the random seed here for reproducibility of results\n",
    "np.random.seed(123)\n",
    "np.random.binomial(10, 0.25)"
   ]
  },
  {
   "cell_type": "code",
   "execution_count": 9,
   "metadata": {},
   "outputs": [
    {
     "name": "stdout",
     "output_type": "stream",
     "text": [
      "CPU times: user 10.6 ms, sys: 130 µs, total: 10.8 ms\n",
      "Wall time: 10.7 ms\n"
     ]
    }
   ],
   "source": [
    "%%time\n",
    "\n",
    "my_list = []\n",
    "for i in range(5000):\n",
    "    my_list.append(np.random.binomial(10, 0.25))"
   ]
  },
  {
   "cell_type": "code",
   "execution_count": 10,
   "metadata": {},
   "outputs": [
    {
     "name": "stdout",
     "output_type": "stream",
     "text": [
      "CPU times: user 335 µs, sys: 97 µs, total: 432 µs\n",
      "Wall time: 236 µs\n"
     ]
    }
   ],
   "source": [
    "%%time\n",
    "my_list2 = np.random.binomial(10, 0.25, 5000)"
   ]
  },
  {
   "cell_type": "code",
   "execution_count": 11,
   "metadata": {
    "scrolled": true
   },
   "outputs": [
    {
     "data": {
      "text/plain": [
       "array([0, 1, 2, 3, 4, 5, 6, 7, 8])"
      ]
     },
     "execution_count": 11,
     "metadata": {},
     "output_type": "execute_result"
    }
   ],
   "source": [
    "np.unique(my_list)"
   ]
  },
  {
   "cell_type": "code",
   "execution_count": 12,
   "metadata": {},
   "outputs": [
    {
     "data": {
      "text/plain": [
       "array([ 310,  941, 1368, 1286,  707,  297,   78,   11,    2])"
      ]
     },
     "execution_count": 12,
     "metadata": {},
     "output_type": "execute_result"
    }
   ],
   "source": [
    "np.bincount(my_list)"
   ]
  },
  {
   "cell_type": "code",
   "execution_count": null,
   "metadata": {},
   "outputs": [],
   "source": [
    "# the results should look like this:\n",
    "# [0 1 2 3 4 5 6 7 8]\n",
    "# [ 310  941 1368 1286  707  297   78   11    2]"
   ]
  },
  {
   "cell_type": "markdown",
   "metadata": {},
   "source": [
    "## Visualize these results\n",
    "\n",
    "Create the PMF using these empirical results (that is, the proportions based on the values we obtained running the experiment 5000 times)."
   ]
  },
  {
   "cell_type": "code",
   "execution_count": 13,
   "metadata": {},
   "outputs": [
    {
     "data": {
      "text/plain": [
       "<BarContainer object of 9 artists>"
      ]
     },
     "execution_count": 13,
     "metadata": {},
     "output_type": "execute_result"
    },
    {
     "data": {
      "image/png": "[encoded data removed]",
      "text/plain": [
       "<Figure size 432x288 with 1 Axes>"
      ]
     },
     "metadata": {
      "needs_background": "light"
     },
     "output_type": "display_data"
    }
   ],
   "source": [
    "import matplotlib.pyplot as plt\n",
    "%matplotlib inline\n",
    "plt.bar(np.unique(my_list), np.bincount(my_list))"
   ]
  },
  {
   "cell_type": "markdown",
   "metadata": {},
   "source": [
    "You should see that, with a 25% strike hit rate, even when simulating 5000 times, an almost perfect and/or perfect game of 9 and 10 strikes didn't even occur once! If you change the random seed, however, you'll see that perfect games will show up occasionally. \n",
    "\n",
    "Next, let's create the CDF based on these results. You can use `np.cumsum` to obtain cumulative probabilities."
   ]
  },
  {
   "cell_type": "code",
   "execution_count": 14,
   "metadata": {},
   "outputs": [
    {
     "data": {
      "text/plain": [
       "<BarContainer object of 9 artists>"
      ]
     },
     "execution_count": 14,
     "metadata": {},
     "output_type": "execute_result"
    },
    {
     "data": {
      "image/png": "[encoded data removed]",
      "text/plain": [
       "<Figure size 432x288 with 1 Axes>"
      ]
     },
     "metadata": {
      "needs_background": "light"
     },
     "output_type": "display_data"
    }
   ],
   "source": [
    "# Your code here\n",
    "plt.bar(np.unique(my_list), np.cumsum(np.bincount(my_list) / 5000)) #should be equal 1"
   ]
  },
  {
   "cell_type": "markdown",
   "metadata": {},
   "source": [
    "## Summary\n",
    "\n",
    "Congratulations! In this lab, you practiced your newly gained knowledge of the Bernoulli and Binomial Distribution."
   ]
  }
 ],
 "metadata": {
  "kernelspec": {
   "display_name": "Python 3",
   "language": "python",
   "name": "python3"
  },
  "language_info": {
   "codemirror_mode": {
    "name": "ipython",
    "version": 3
   },
   "file_extension": ".py",
   "mimetype": "text/x-python",
   "name": "python",
   "nbconvert_exporter": "python",
   "pygments_lexer": "ipython3",
   "version": "3.8.5"
  },
  "toc": {
   "base_numbering": 1,
   "nav_menu": {},
   "number_sections": true,
   "sideBar": true,
   "skip_h1_title": false,
   "title_cell": "Table of Contents",
   "title_sidebar": "Contents",
   "toc_cell": false,
   "toc_position": {},
   "toc_section_display": true,
   "toc_window_display": false
  }
 },
 "nbformat": 4,
 "nbformat_minor": 2
}
