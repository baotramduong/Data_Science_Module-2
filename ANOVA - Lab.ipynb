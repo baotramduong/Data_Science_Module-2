{
 "cells": [
  {
   "cell_type": "markdown",
   "metadata": {},
   "source": [
    "# ANOVA  - Lab\n",
    "\n",
    "## Introduction\n",
    "\n",
    "In this lab, you'll get some brief practice generating an ANOVA table (AOV) and interpreting its output. You'll also perform some investigations to compare the method to the t-tests you previously employed to conduct hypothesis testing.\n",
    "\n",
    "## Objectives\n",
    "\n",
    "In this lab you will: \n",
    "\n",
    "- Use ANOVA for testing multiple pairwise comparisons \n",
    "- Interpret results of an ANOVA and compare them to a t-test"
   ]
  },
  {
   "cell_type": "markdown",
   "metadata": {},
   "source": [
    "## Load the data\n",
    "\n",
    "Start by loading in the data stored in the file `'ToothGrowth.csv'`: "
   ]
  },
  {
   "cell_type": "code",
   "execution_count": 15,
   "metadata": {},
   "outputs": [],
   "source": [
    "import pandas as pd\n",
    "import statsmodels.api as sm\n",
    "from statsmodels.formula.api import ols"
   ]
  },
  {
   "cell_type": "code",
   "execution_count": 16,
   "metadata": {},
   "outputs": [
    {
     "data": {
      "text/html": [
       "<div>\n",
       "<style scoped>\n",
       "    .dataframe tbody tr th:only-of-type {\n",
       "        vertical-align: middle;\n",
       "    }\n",
       "\n",
       "    .dataframe tbody tr th {\n",
       "        vertical-align: top;\n",
       "    }\n",
       "\n",
       "    .dataframe thead th {\n",
       "        text-align: right;\n",
       "    }\n",
       "</style>\n",
       "<table border=\"1\" class=\"dataframe\">\n",
       "  <thead>\n",
       "    <tr style=\"text-align: right;\">\n",
       "      <th></th>\n",
       "      <th>len</th>\n",
       "      <th>supp</th>\n",
       "      <th>dose</th>\n",
       "    </tr>\n",
       "  </thead>\n",
       "  <tbody>\n",
       "    <tr>\n",
       "      <th>0</th>\n",
       "      <td>4.2</td>\n",
       "      <td>VC</td>\n",
       "      <td>0.5</td>\n",
       "    </tr>\n",
       "    <tr>\n",
       "      <th>1</th>\n",
       "      <td>11.5</td>\n",
       "      <td>VC</td>\n",
       "      <td>0.5</td>\n",
       "    </tr>\n",
       "    <tr>\n",
       "      <th>2</th>\n",
       "      <td>7.3</td>\n",
       "      <td>VC</td>\n",
       "      <td>0.5</td>\n",
       "    </tr>\n",
       "    <tr>\n",
       "      <th>3</th>\n",
       "      <td>5.8</td>\n",
       "      <td>VC</td>\n",
       "      <td>0.5</td>\n",
       "    </tr>\n",
       "    <tr>\n",
       "      <th>4</th>\n",
       "      <td>6.4</td>\n",
       "      <td>VC</td>\n",
       "      <td>0.5</td>\n",
       "    </tr>\n",
       "  </tbody>\n",
       "</table>\n",
       "</div>"
      ],
      "text/plain": [
       "    len supp  dose\n",
       "0   4.2   VC   0.5\n",
       "1  11.5   VC   0.5\n",
       "2   7.3   VC   0.5\n",
       "3   5.8   VC   0.5\n",
       "4   6.4   VC   0.5"
      ]
     },
     "execution_count": 16,
     "metadata": {},
     "output_type": "execute_result"
    }
   ],
   "source": [
    "# Your code here\n",
    "df = pd.read_csv('ToothGrowth.csv')\n",
    "df.head()"
   ]
  },
  {
   "cell_type": "markdown",
   "metadata": {},
   "source": [
    "## Generate the ANOVA table\n",
    "\n",
    "Now generate an ANOVA table in order to analyze the influence of the medication and dosage:  "
   ]
  },
  {
   "cell_type": "code",
   "execution_count": 17,
   "metadata": {},
   "outputs": [
    {
     "name": "stdout",
     "output_type": "stream",
     "text": [
      "               sum_sq    df          F        PR(>F)\n",
      "C(supp)    205.350000   1.0  14.016638  4.292793e-04\n",
      "C(dose)   2426.434333   2.0  82.810935  1.871163e-17\n",
      "Residual   820.425000  56.0        NaN           NaN\n"
     ]
    }
   ],
   "source": [
    "# Your code here\n",
    "formula = 'len ~ C(supp) + C(dose)'\n",
    "lm = ols(formula, df).fit()\n",
    "table = sm.stats.anova_lm(lm, typ = 2)\n",
    "print(table)"
   ]
  },
  {
   "cell_type": "markdown",
   "metadata": {},
   "source": [
    "## Interpret the output\n",
    "\n",
    "Make a brief comment regarding the statistics and the effect of supplement and dosage on tooth length: "
   ]
  },
  {
   "cell_type": "code",
   "execution_count": 18,
   "metadata": {},
   "outputs": [],
   "source": [
    "# Your comment here\n",
    "#both supp and dose are influential since alpha is significantly less than 0.05, hence we reject H0. \n",
    "#dose is more influential than supp"
   ]
  },
  {
   "cell_type": "markdown",
   "metadata": {},
   "source": [
    "## Compare to t-tests\n",
    "\n",
    "Now that you've had a chance to generate an ANOVA table, its interesting to compare the results to those from the t-tests you were working with earlier. With that, start by breaking the data into two samples: those given the OJ supplement, and those given the VC supplement. Afterward, you'll conduct a t-test to compare the tooth length of these two different samples: "
   ]
  },
  {
   "cell_type": "code",
   "execution_count": 19,
   "metadata": {
    "scrolled": false
   },
   "outputs": [
    {
     "data": {
      "text/plain": [
       "30    15.2\n",
       "31    21.5\n",
       "32    17.6\n",
       "33     9.7\n",
       "34    14.5\n",
       "35    10.0\n",
       "36     8.2\n",
       "37     9.4\n",
       "38    16.5\n",
       "39     9.7\n",
       "40    19.7\n",
       "41    23.3\n",
       "42    23.6\n",
       "43    26.4\n",
       "44    20.0\n",
       "45    25.2\n",
       "46    25.8\n",
       "47    21.2\n",
       "48    14.5\n",
       "49    27.3\n",
       "50    25.5\n",
       "51    26.4\n",
       "52    22.4\n",
       "53    24.5\n",
       "54    24.8\n",
       "55    30.9\n",
       "56    26.4\n",
       "57    27.3\n",
       "58    29.4\n",
       "59    23.0\n",
       "Name: len, dtype: float64"
      ]
     },
     "execution_count": 19,
     "metadata": {},
     "output_type": "execute_result"
    }
   ],
   "source": [
    "# Your code here\n",
    "OJ_len = df[df['supp'] == 'OJ']['len']\n",
    "OJ_len"
   ]
  },
  {
   "cell_type": "code",
   "execution_count": 20,
   "metadata": {
    "scrolled": false
   },
   "outputs": [
    {
     "data": {
      "text/plain": [
       "0      4.2\n",
       "1     11.5\n",
       "2      7.3\n",
       "3      5.8\n",
       "4      6.4\n",
       "5     10.0\n",
       "6     11.2\n",
       "7     11.2\n",
       "8      5.2\n",
       "9      7.0\n",
       "10    16.5\n",
       "11    16.5\n",
       "12    15.2\n",
       "13    17.3\n",
       "14    22.5\n",
       "15    17.3\n",
       "16    13.6\n",
       "17    14.5\n",
       "18    18.8\n",
       "19    15.5\n",
       "20    23.6\n",
       "21    18.5\n",
       "22    33.9\n",
       "23    25.5\n",
       "24    26.4\n",
       "25    32.5\n",
       "26    26.7\n",
       "27    21.5\n",
       "28    23.3\n",
       "29    29.5\n",
       "Name: len, dtype: float64"
      ]
     },
     "execution_count": 20,
     "metadata": {},
     "output_type": "execute_result"
    }
   ],
   "source": [
    "VC_len = df[df['supp'] == 'VC']['len']\n",
    "VC_len"
   ]
  },
  {
   "cell_type": "markdown",
   "metadata": {},
   "source": [
    "Now run a t-test between these two groups and print the associated two-sided p-value: "
   ]
  },
  {
   "cell_type": "code",
   "execution_count": 21,
   "metadata": {},
   "outputs": [
    {
     "data": {
      "text/plain": [
       "Ttest_indResult(statistic=1.91526826869527, pvalue=0.06039337122412849)"
      ]
     },
     "execution_count": 21,
     "metadata": {},
     "output_type": "execute_result"
    }
   ],
   "source": [
    "# Calculate the 2-sided p-value for a t-test comparing the two supplement groups\n",
    "from scipy import stats\n",
    "\n",
    "stats.ttest_ind(OJ_len, VC_len, equal_var = True)"
   ]
  },
  {
   "cell_type": "markdown",
   "metadata": {},
   "source": [
    "## A 2-Category ANOVA F-test is equivalent to a 2-tailed t-test!\n",
    "\n",
    "Now, recalculate an ANOVA F-test with only the supplement variable. An ANOVA F-test between two categories is the same as performing a 2-tailed t-test! So, the p-value in the table should be identical to your calculation above.\n",
    "\n",
    "> Note: there may be a small fractional difference (>0.001) between the two values due to a rounding error between implementations. "
   ]
  },
  {
   "cell_type": "code",
   "execution_count": 27,
   "metadata": {},
   "outputs": [
    {
     "name": "stdout",
     "output_type": "stream",
     "text": [
      "               sum_sq    df         F    PR(>F)\n",
      "C(supp)    205.350000   1.0  3.668253  0.060393\n",
      "Residual  3246.859333  58.0       NaN       NaN\n"
     ]
    }
   ],
   "source": [
    "# Your code here; conduct an ANOVA F-test of the oj and vc supplement groups.\n",
    "formula = 'len ~ C(supp)'\n",
    "lm = ols(formula, df).fit()\n",
    "table = sm.stats.anova_lm(lm, typ=2)\n",
    "print(table)\n",
    "\n",
    "# Compare the p-value to that of the t-test above. \n",
    "# They should match (there may be a tiny fractional difference due to rounding errors in varying implementations)\n",
    "#p-value matches the '2-sided p-value for a t-test comparing the two supplement groups' p-value above"
   ]
  },
  {
   "cell_type": "markdown",
   "metadata": {},
   "source": [
    "## Run multiple t-tests\n",
    "\n",
    "While the 2-category ANOVA test is identical to a 2-tailed t-test, performing multiple t-tests leads to the multiple comparisons problem. To investigate this, look at the various sample groups you could create from the 2 features: "
   ]
  },
  {
   "cell_type": "code",
   "execution_count": 58,
   "metadata": {},
   "outputs": [
    {
     "name": "stdout",
     "output_type": "stream",
     "text": [
      "('OJ', 0.5)\n",
      "('OJ', 1.0)\n",
      "('OJ', 2.0)\n",
      "('VC', 0.5)\n",
      "('VC', 1.0)\n",
      "('VC', 2.0)\n"
     ]
    }
   ],
   "source": [
    "for group in df.groupby(['supp', 'dose'])['len']:\n",
    "    group_name = group[0]\n",
    "    data = group[1]\n",
    "    print(group_name)"
   ]
  },
  {
   "cell_type": "markdown",
   "metadata": {},
   "source": [
    "While bad practice, examine the effects of calculating multiple t-tests with the various combinations of these. To do this, generate all combinations of the above groups. For each pairwise combination, calculate the p-value of a 2-sided t-test. Print the group combinations and their associated p-value for the two-sided t-test."
   ]
  },
  {
   "cell_type": "code",
   "execution_count": 59,
   "metadata": {},
   "outputs": [],
   "source": [
    "# Your code here; reuse your t-test code above to calculate the p-value for a 2-sided t-test\n",
    "# for all combinations of the supplement-dose groups listed above. \n",
    "# (Since there isn't a control group, compare each group to every other group.)\n",
    "\n",
    "from itertools import combinations\n",
    "\n",
    "groups = [group[0] for group in df.groupby(['supp', 'dose'])['len']]\n",
    "combos = combinations(groups, 2)"
   ]
  },
  {
   "cell_type": "code",
   "execution_count": 63,
   "metadata": {},
   "outputs": [
    {
     "name": "stdout",
     "output_type": "stream",
     "text": [
      "('OJ', 0.5)\n",
      "('OJ', 1.0)\n",
      "('OJ', 2.0)\n",
      "('VC', 0.5)\n",
      "('VC', 1.0)\n",
      "('VC', 2.0)\n"
     ]
    }
   ],
   "source": [
    "for i in groups:\n",
    "    print(i)"
   ]
  },
  {
   "cell_type": "code",
   "execution_count": 62,
   "metadata": {
    "scrolled": false
   },
   "outputs": [
    {
     "name": "stdout",
     "output_type": "stream",
     "text": [
      "(('OJ', 0.5), ('OJ', 1.0))\n",
      "(('OJ', 0.5), ('OJ', 2.0))\n",
      "(('OJ', 0.5), ('VC', 0.5))\n",
      "(('OJ', 0.5), ('VC', 1.0))\n",
      "(('OJ', 0.5), ('VC', 2.0))\n",
      "(('OJ', 1.0), ('OJ', 2.0))\n",
      "(('OJ', 1.0), ('VC', 0.5))\n",
      "(('OJ', 1.0), ('VC', 1.0))\n",
      "(('OJ', 1.0), ('VC', 2.0))\n",
      "(('OJ', 2.0), ('VC', 0.5))\n",
      "(('OJ', 2.0), ('VC', 1.0))\n",
      "(('OJ', 2.0), ('VC', 2.0))\n",
      "(('VC', 0.5), ('VC', 1.0))\n",
      "(('VC', 0.5), ('VC', 2.0))\n",
      "(('VC', 1.0), ('VC', 2.0))\n"
     ]
    }
   ],
   "source": [
    "for i in combos:\n",
    "    print(i)"
   ]
  },
  {
   "cell_type": "code",
   "execution_count": 74,
   "metadata": {
    "scrolled": true
   },
   "outputs": [
    {
     "name": "stdout",
     "output_type": "stream",
     "text": [
      "(('OJ', 0.5), ('OJ', 1.0)) 8.784919055161479e-05\n",
      "(('OJ', 0.5), ('OJ', 2.0)) 1.3237838776972294e-06\n",
      "(('OJ', 0.5), ('VC', 0.5)) 0.006358606764096813\n",
      "(('OJ', 0.5), ('VC', 1.0)) 0.04601033257637553\n",
      "(('OJ', 0.5), ('VC', 2.0)) 7.196253524006043e-06\n",
      "(('OJ', 1.0), ('OJ', 2.0)) 0.039195142046244004\n",
      "(('OJ', 1.0), ('VC', 0.5)) 3.6552067303259103e-08\n",
      "(('OJ', 1.0), ('VC', 1.0)) 0.001038375872299884\n",
      "(('OJ', 1.0), ('VC', 2.0)) 0.09652612338267014\n",
      "(('OJ', 2.0), ('VC', 0.5)) 1.3621396478988818e-11\n",
      "(('OJ', 2.0), ('VC', 1.0)) 2.3610742020468435e-07\n",
      "(('OJ', 2.0), ('VC', 2.0)) 0.9638515887233756\n",
      "(('VC', 0.5), ('VC', 1.0)) 6.811017702865016e-07\n",
      "(('VC', 0.5), ('VC', 2.0)) 4.6815774144921145e-08\n",
      "(('VC', 1.0), ('VC', 2.0)) 9.155603056638692e-05\n"
     ]
    }
   ],
   "source": [
    "from itertools import combinations\n",
    "\n",
    "groups = [group[0] for group in df.groupby(['supp', 'dose'])['len']]\n",
    "combos = combinations(groups, 2)\n",
    "for combo in combos:\n",
    "    supp1 = combo[0][0]\n",
    "    dose1 = combo[0][1]\n",
    "    supp2 = combo[1][0]\n",
    "    dose2 = combo[1][1]\n",
    "    sample1 = df[(df.supp == supp1) & (df.dose == dose1)]['len']\n",
    "    sample2 = df[(df.supp == supp2) & (df.dose == dose2)]['len']\n",
    "    p = stats.ttest_ind(sample1, sample2, equal_var=False)[1]\n",
    "    print(combo, p)"
   ]
  },
  {
   "cell_type": "code",
   "execution_count": null,
   "metadata": {},
   "outputs": [],
   "source": [
    "#all p-value are lower than 0.05, hence all factors are influential"
   ]
  },
  {
   "cell_type": "markdown",
   "metadata": {},
   "source": [
    "## Summary\n",
    "\n",
    "In this lesson, you implemented the ANOVA technique to generalize testing methods to multiple groups and factors."
   ]
  }
 ],
 "metadata": {
  "kernelspec": {
   "display_name": "Python 3",
   "language": "python",
   "name": "python3"
  },
  "language_info": {
   "codemirror_mode": {
    "name": "ipython",
    "version": 3
   },
   "file_extension": ".py",
   "mimetype": "text/x-python",
   "name": "python",
   "nbconvert_exporter": "python",
   "pygments_lexer": "ipython3",
   "version": "3.8.5"
  }
 },
 "nbformat": 4,
 "nbformat_minor": 2
}
