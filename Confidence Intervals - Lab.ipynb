{
 "cells": [
  {
   "cell_type": "markdown",
   "metadata": {},
   "source": [
    "# Confidence Intervals - Lab\n",
    "\n",
    "## Introduction\n",
    "\n",
    "As we begin to talk about confidence intervals, it’s important to remember the difference between a **sample distribution** and a **sampling distribution**. \n",
    "\n",
    "Remember that a sample data distribution is the distribution of the data points within a single sample.  A sampling distribution is the probability distribution a statistic can take. Also recall that, by the Central Limit Theorem, the sampling distribution of the sample mean (x_hat) is approximately normal regardless of the shape of the original distribution of the variable.\n",
    "\n",
    "As seen in a previous lab,  point estimates can provide some idea of a population parameter like the mean, but estimates are prone to error and also, taking multiple samples to get improved estimates may not be feasible all the time. \n",
    "\n",
    "## Objectives\n",
    "You will be able to:\n",
    "* Calculate confidence intervals\n",
    "* Interpret confidence intervals in relation to true population parameters"
   ]
  },
  {
   "cell_type": "markdown",
   "metadata": {},
   "source": [
    "## Data \n",
    "\n",
    "If we wanted to know the average age of registered voters in some elections, we could take a survey of registered voters and then use the average age of the respondents as a point estimate of the average age of the population as a whole.\n",
    "\n",
    "In a previous lab, we saw that the sample mean is usually not exactly the same as the population mean. This difference can be caused by many factors including poor survey design, biased sampling methods and the randomness inherent to drawing a sample from a population. Let's run a simulation to investigate point estimates by generating a population of random age data and then drawing a sample from it to estimate the mean:"
   ]
  },
  {
   "cell_type": "code",
   "execution_count": 1,
   "metadata": {},
   "outputs": [],
   "source": [
    "# Import necessary libraries\n",
    "import numpy as np\n",
    "import scipy as sp\n",
    "import pandas as pd\n",
    "import scipy.stats as stats\n",
    "import seaborn as sns\n",
    "import matplotlib.pyplot as plt\n",
    "import math\n",
    "\n",
    "# Plot styles\n",
    "plt.style.use('fivethirtyeight')\n",
    "%config InlineBackend.figure_format = 'retina'\n",
    "%matplotlib inline"
   ]
  },
  {
   "cell_type": "markdown",
   "metadata": {},
   "source": [
    "The Poisson distribution is the discrete probability distribution of the number of events occurring in a given time period, given the average number of times the event occurs over that time period. We shall use a Poisson distribution to construct a bimodal distribution."
   ]
  },
  {
   "cell_type": "code",
   "execution_count": 2,
   "metadata": {},
   "outputs": [],
   "source": [
    "np.random.seed(15)\n",
    "population_ages1 = stats.poisson.rvs(loc=18, mu=35, size=150000)\n",
    "population_ages2 = stats.poisson.rvs(loc=18, mu=10, size=100000)\n",
    "population_ages = np.concatenate((population_ages1, population_ages2))"
   ]
  },
  {
   "cell_type": "markdown",
   "metadata": {},
   "source": [
    "Calculate the mean for the population and visualize the distribution. Also, describe the solution using five point statistics. (Hint: convert the population_ages array into a dataframe)."
   ]
  },
  {
   "cell_type": "code",
   "execution_count": 3,
   "metadata": {},
   "outputs": [
    {
     "data": {
      "text/html": [
       "<div>\n",
       "<style scoped>\n",
       "    .dataframe tbody tr th:only-of-type {\n",
       "        vertical-align: middle;\n",
       "    }\n",
       "\n",
       "    .dataframe tbody tr th {\n",
       "        vertical-align: top;\n",
       "    }\n",
       "\n",
       "    .dataframe thead th {\n",
       "        text-align: right;\n",
       "    }\n",
       "</style>\n",
       "<table border=\"1\" class=\"dataframe\">\n",
       "  <thead>\n",
       "    <tr style=\"text-align: right;\">\n",
       "      <th></th>\n",
       "      <th>Ages</th>\n",
       "    </tr>\n",
       "  </thead>\n",
       "  <tbody>\n",
       "    <tr>\n",
       "      <th>0</th>\n",
       "      <td>60</td>\n",
       "    </tr>\n",
       "    <tr>\n",
       "      <th>1</th>\n",
       "      <td>40</td>\n",
       "    </tr>\n",
       "    <tr>\n",
       "      <th>2</th>\n",
       "      <td>49</td>\n",
       "    </tr>\n",
       "    <tr>\n",
       "      <th>3</th>\n",
       "      <td>49</td>\n",
       "    </tr>\n",
       "    <tr>\n",
       "      <th>4</th>\n",
       "      <td>44</td>\n",
       "    </tr>\n",
       "    <tr>\n",
       "      <th>...</th>\n",
       "      <td>...</td>\n",
       "    </tr>\n",
       "    <tr>\n",
       "      <th>249995</th>\n",
       "      <td>25</td>\n",
       "    </tr>\n",
       "    <tr>\n",
       "      <th>249996</th>\n",
       "      <td>29</td>\n",
       "    </tr>\n",
       "    <tr>\n",
       "      <th>249997</th>\n",
       "      <td>24</td>\n",
       "    </tr>\n",
       "    <tr>\n",
       "      <th>249998</th>\n",
       "      <td>28</td>\n",
       "    </tr>\n",
       "    <tr>\n",
       "      <th>249999</th>\n",
       "      <td>31</td>\n",
       "    </tr>\n",
       "  </tbody>\n",
       "</table>\n",
       "<p>250000 rows × 1 columns</p>\n",
       "</div>"
      ],
      "text/plain": [
       "        Ages\n",
       "0         60\n",
       "1         40\n",
       "2         49\n",
       "3         49\n",
       "4         44\n",
       "...      ...\n",
       "249995    25\n",
       "249996    29\n",
       "249997    24\n",
       "249998    28\n",
       "249999    31\n",
       "\n",
       "[250000 rows x 1 columns]"
      ]
     },
     "execution_count": 3,
     "metadata": {},
     "output_type": "execute_result"
    }
   ],
   "source": [
    "pd.DataFrame(population_ages, columns = ['Ages'])"
   ]
  },
  {
   "cell_type": "code",
   "execution_count": 6,
   "metadata": {},
   "outputs": [
    {
     "name": "stdout",
     "output_type": "stream",
     "text": [
      "The mean of population if 42.985332\n"
     ]
    },
    {
     "data": {
      "text/plain": [
       "count    250000.000000\n",
       "mean         42.985332\n",
       "std          13.211628\n",
       "min          18.000000\n",
       "25%          29.000000\n",
       "50%          47.000000\n",
       "75%          54.000000\n",
       "max          84.000000\n",
       "Name: Ages, dtype: float64"
      ]
     },
     "execution_count": 6,
     "metadata": {},
     "output_type": "execute_result"
    }
   ],
   "source": [
    "# Convert the population into a pandas dataframe pop_ages\n",
    "pop_ages = pd.DataFrame(population_ages, columns = ['Ages'])\n",
    "\n",
    "# Calculate and print descriptive statistics for pop_ages\n",
    "print(f'The mean of population if {pop_ages[\"Ages\"].mean()}')\n",
    "\n",
    "pop_ages['Ages'].describe()\n",
    "# The mean of population is: 42.985332\n",
    "\n",
    "# count\t250000 \n",
    "# mean\t42.985332\n",
    "# std\t13.211628\n",
    "# min\t18.000000\n",
    "# 25%\t29.000000\n",
    "# 50%\t47.000000\n",
    "# 75%\t54.000000\n",
    "# max\t84.000000\n"
   ]
  },
  {
   "cell_type": "code",
   "execution_count": 7,
   "metadata": {},
   "outputs": [
    {
     "data": {
      "image/png": "[encoded data removed]",
      "text/plain": [
       "<Figure size 432x288 with 1 Axes>"
      ]
     },
     "metadata": {
      "image/png": {
       "height": 244,
       "width": 425
      },
      "needs_background": "light"
     },
     "output_type": "display_data"
    }
   ],
   "source": [
    "# Draw a histogram for pop ages\n",
    "plt.hist(pop_ages['Ages']);"
   ]
  },
  {
   "cell_type": "markdown",
   "metadata": {},
   "source": [
    "Let's take a random sample of size 500 from this distribution and calculate the sample mean and standard deviation. Also, work out the difference between the population and sample mean. "
   ]
  },
  {
   "cell_type": "code",
   "execution_count": 10,
   "metadata": {},
   "outputs": [
    {
     "name": "stdout",
     "output_type": "stream",
     "text": [
      "Sample mean: 43.49\n",
      "Sample std.: 12.98529552994463\n",
      "Difference between means: -0.5046680000000023\n"
     ]
    }
   ],
   "source": [
    "np.random.seed(15)\n",
    "\n",
    "# Take random sample of size 500\n",
    "sample_size = 500\n",
    "sample = np.random.choice(population_ages, 500)\n",
    "\n",
    "# Calculate sample mean and standard deviation\n",
    "sample_mean = sample.mean()\n",
    "sample_std = sample.std()\n",
    "\n",
    "print (\"Sample mean:\", sample_mean)\n",
    "print (\"Sample std.:\", sample_std)\n",
    "print (\"Difference between means:\", population_ages.mean() - sample_mean)\n",
    "\n",
    "# Sample mean: 43.49 \n",
    "# Sample std.: 12.98529552994463\n",
    "# Difference between means: -0.5046680000000023"
   ]
  },
  {
   "cell_type": "markdown",
   "metadata": {},
   "source": [
    "We can see there is a small difference between sample mean and population mean. An increase in sample size can help reduce this difference. \n",
    "\n",
    "The central limit theorem states the distribution of **many sample means**, known as a **sampling distribution**, will be normally distributed. This rule holds even if the underlying distribution itself is not normally distributed as we saw above. \n",
    "\n",
    "As a result, we can treat the sample mean as if it were drawn from a normal distribution. \n",
    "\n",
    "To illustrate, let's create a sampling distribution by taking 100 samples from our population and then making 100 point estimates of the mean. Calculate the mean and standard deviation of sample means.\n"
   ]
  },
  {
   "cell_type": "code",
   "execution_count": 11,
   "metadata": {},
   "outputs": [],
   "source": [
    "np.random.seed(15)\n",
    "\n",
    "point_estimates = []         # Make empty list to hold point estimates\n",
    "\n",
    "# Take 100 samples and generate 100 point estimates using a for loop. \n",
    "# append sample means to get point estimates\n",
    "for i in range(100):\n",
    "    point_estimates.append(np.random.choice(population_ages, 500).mean())\n",
    "\n",
    "# Convert the point_estimates into a pandas dataframe\n",
    "# Calculate and print descriptive statistics for the dataframe\n",
    "\n",
    "# count\t100.000000\n",
    "# mean\t42.959380\n",
    "# std\t0.586404\n",
    "# min\t41.296000\n",
    "# 25%\t42.530000\n",
    "# 50%\t42.960000\n",
    "# 75%\t43.356000\n",
    "# max\t44.492000\n"
   ]
  },
  {
   "cell_type": "code",
   "execution_count": 12,
   "metadata": {},
   "outputs": [
    {
     "data": {
      "text/html": [
       "<div>\n",
       "<style scoped>\n",
       "    .dataframe tbody tr th:only-of-type {\n",
       "        vertical-align: middle;\n",
       "    }\n",
       "\n",
       "    .dataframe tbody tr th {\n",
       "        vertical-align: top;\n",
       "    }\n",
       "\n",
       "    .dataframe thead th {\n",
       "        text-align: right;\n",
       "    }\n",
       "</style>\n",
       "<table border=\"1\" class=\"dataframe\">\n",
       "  <thead>\n",
       "    <tr style=\"text-align: right;\">\n",
       "      <th></th>\n",
       "      <th>point_estimates</th>\n",
       "    </tr>\n",
       "  </thead>\n",
       "  <tbody>\n",
       "    <tr>\n",
       "      <th>count</th>\n",
       "      <td>100.000000</td>\n",
       "    </tr>\n",
       "    <tr>\n",
       "      <th>mean</th>\n",
       "      <td>42.959380</td>\n",
       "    </tr>\n",
       "    <tr>\n",
       "      <th>std</th>\n",
       "      <td>0.586404</td>\n",
       "    </tr>\n",
       "    <tr>\n",
       "      <th>min</th>\n",
       "      <td>41.296000</td>\n",
       "    </tr>\n",
       "    <tr>\n",
       "      <th>25%</th>\n",
       "      <td>42.530000</td>\n",
       "    </tr>\n",
       "    <tr>\n",
       "      <th>50%</th>\n",
       "      <td>42.960000</td>\n",
       "    </tr>\n",
       "    <tr>\n",
       "      <th>75%</th>\n",
       "      <td>43.356000</td>\n",
       "    </tr>\n",
       "    <tr>\n",
       "      <th>max</th>\n",
       "      <td>44.492000</td>\n",
       "    </tr>\n",
       "  </tbody>\n",
       "</table>\n",
       "</div>"
      ],
      "text/plain": [
       "       point_estimates\n",
       "count       100.000000\n",
       "mean         42.959380\n",
       "std           0.586404\n",
       "min          41.296000\n",
       "25%          42.530000\n",
       "50%          42.960000\n",
       "75%          43.356000\n",
       "max          44.492000"
      ]
     },
     "execution_count": 12,
     "metadata": {},
     "output_type": "execute_result"
    }
   ],
   "source": [
    "df = pd.DataFrame({'point_estimates': point_estimates})\n",
    "df.describe()"
   ]
  },
  {
   "cell_type": "markdown",
   "metadata": {},
   "source": [
    "Let's visualize the distribution of sample means to check for normality."
   ]
  },
  {
   "cell_type": "code",
   "execution_count": 14,
   "metadata": {
    "scrolled": true
   },
   "outputs": [
    {
     "name": "stderr",
     "output_type": "stream",
     "text": [
      "/opt/anaconda3/lib/python3.8/site-packages/seaborn/distributions.py:2551: FutureWarning: `distplot` is a deprecated function and will be removed in a future version. Please adapt your code to use either `displot` (a figure-level function with similar flexibility) or `histplot` (an axes-level function for histograms).\n",
      "  warnings.warn(msg, FutureWarning)\n"
     ]
    },
    {
     "data": {
      "text/plain": [
       "<AxesSubplot:xlabel='point_estimates', ylabel='Density'>"
      ]
     },
     "execution_count": 14,
     "metadata": {},
     "output_type": "execute_result"
    },
    {
     "data": {
      "image/png": "[encoded data removed]",
      "text/plain": [
       "<Figure size 432x288 with 1 Axes>"
      ]
     },
     "metadata": {
      "image/png": {
       "height": 261,
       "width": 425
      },
      "needs_background": "light"
     },
     "output_type": "display_data"
    }
   ],
   "source": [
    "#Visualize the point estimates by plotting a density plot (use pandas)\n",
    "sns.distplot(df['point_estimates'])"
   ]
  },
  {
   "cell_type": "code",
   "execution_count": 15,
   "metadata": {},
   "outputs": [
    {
     "data": {
      "text/plain": [
       "<AxesSubplot:ylabel='Density'>"
      ]
     },
     "execution_count": 15,
     "metadata": {},
     "output_type": "execute_result"
    },
    {
     "data": {
      "image/png": "[encoded data removed]",
      "text/plain": [
       "<Figure size 432x288 with 1 Axes>"
      ]
     },
     "metadata": {
      "image/png": {
       "height": 244,
       "width": 425
      },
      "needs_background": "light"
     },
     "output_type": "display_data"
    }
   ],
   "source": [
    "df['point_estimates'].plot.density()"
   ]
  },
  {
   "cell_type": "markdown",
   "metadata": {},
   "source": [
    "The sampling distribution appears to be roughly normal, despite the bimodal population distribution that the samples were drawn from. This is where the central limit theorem comes into play. In addition, the mean of the sampling distribution approaches the true population mean. The more samples we take, the better our estimate of the population parameter is likely to be. "
   ]
  },
  {
   "cell_type": "markdown",
   "metadata": {},
   "source": [
    "## What is a Confidence Interval?\n",
    "\n",
    "A **Confidence Interval** is a range of values above and below the point estimate that captures the true population parameter at some predetermined confidence level. If we **want** to have a 95% chance of capturing the true population parameter with a point estimate and a corresponding confidence interval, we would set the confidence level to 95%. *Higher confidence levels result in wider confidence intervals.*\n",
    "\n",
    "We calculate a confidence interval by taking a point estimate and then adding and subtracting a **margin of error** to create a range. The margin of error is based on your desired confidence level, the spread of the data and the size of your sample. The way you calculate the margin of error depends on whether you know the standard deviation of the population or not.\n",
    "\n",
    "The margin of error for a known population standard deviation is:\n",
    "\n",
    "> **Margin of Error = z ∗ σ / √n**\n",
    "\n",
    "Where σ (sigma) is the population standard deviation, n is sample size, and z is a number known as the z-critical value. \n",
    "\n",
    ">The z-critical value is the number of standard deviations you'd have to go from the mean of the normal distribution to capture the proportion of the data associated with the desired confidence level. \n",
    "\n",
    "For instance, we know that roughly 95% of the data in a normal distribution lies within 2 standard deviations of the mean, so we could use 2 as the z-critical value for a 95% confidence interval as shown in this image:\n",
    "![](normal_distribution.png)\n",
    "\n",
    "**If we want our confidence level — i.e., how confident we are that the true value of the parameter lies within the confidence interval — to be:**\n",
    "- **90%**: The z-score multiplier should be **z = 1.645**, because 90% of the area under the $Z \\text{~} N(0, 1)$ normal distribution lies between -1.645 and 1.645.\n",
    "- **95%**: The z-score multiplier should be **z = 1.96**, because 95% of the area under the $Z \\text{~} N(0, 1)$ normal distribution lies between -1.96 and 1.96.\n",
    "- **99%**: The z-score multiplier should be **z = 2.575**, because 99% of the area under the $Z \\text{~} N(0, 1)$ normal distribution lies between -2.575 and 2.575.\n",
    "\n",
    "It is more suitable to get z-critical values with `stats.norm.ppf()` as the results are more accurate.\n",
    "> **`stats.norm.ppf(q, loc=0, scale=1)`**\tis a percent point function (inverse of cdf — percentiles).\n",
    "\n",
    "Create a function to input population and sample data to calculate the confidence intervals:"
   ]
  },
  {
   "cell_type": "code",
   "execution_count": 18,
   "metadata": {
    "scrolled": true
   },
   "outputs": [
    {
     "name": "stdout",
     "output_type": "stream",
     "text": [
      "z-critical value:\n",
      "1.959963984540054\n",
      "\n",
      "Margin of error\n",
      "1.158026699800684\n",
      "\n",
      "Confidence interval:\n",
      "(42.331973300199316, 44.64802669980069)\n"
     ]
    }
   ],
   "source": [
    "def conf_interval(pop, sample):\n",
    "    '''\n",
    "    Function input: population , sample \n",
    "    Function output: z-critical, Margin of error, Confidence interval\n",
    "    '''\n",
    "    sample_size = 500\n",
    "    n = len(sample)\n",
    "    x_hat = sample.mean()\n",
    "\n",
    "    # Calculate the z-critical value using stats.norm.ppf()\n",
    "    # Note that we use stats.norm.ppf(q = 0.975) to get the desired z-critical value \n",
    "    # instead of q = 0.95 because the distribution has two tails.\n",
    "    z = stats.norm.ppf(q = 0.975)  #  z-critical value for 95% confidence\n",
    "\n",
    "    #Calculate the population std from data\n",
    "    pop_stdev = pop.std()\n",
    "\n",
    "    # Calculate the margin of error using formula given above\n",
    "    moe = z* (pop_stdev / np.sqrt(n))\n",
    "\n",
    "    # Calculate the confidence interval by applying margin of error to sample mean \n",
    "    # (mean - margin of error, mean+ margin of error)\n",
    "    conf = (sample.mean() - moe, sample.mean() + moe)\n",
    "    \n",
    "    return z, moe, conf\n",
    "\n",
    "# Call above function with sample and population \n",
    "z_critical, margin_of_error, confidence_interval = conf_interval(population_ages, sample)    \n",
    "    \n",
    "    \n",
    "\n",
    "print(\"z-critical value:\")              \n",
    "print(z_critical)         \n",
    "print ('\\nMargin of error')\n",
    "print(margin_of_error)\n",
    "print(\"\\nConfidence interval:\")\n",
    "print(confidence_interval)\n",
    "\n",
    "# z-critical value:\n",
    "# 1.959963984540054\n",
    "\n",
    "# Margin of error\n",
    "# 1.158026699800684\n",
    "\n",
    "# Confidence interval:\n",
    "# (41.86997330019931, 44.186026699800685)"
   ]
  },
  {
   "cell_type": "markdown",
   "metadata": {},
   "source": [
    "> Note that with calculated confidence intervals, we captured the true population mean of 42.9"
   ]
  },
  {
   "cell_type": "code",
   "execution_count": 19,
   "metadata": {},
   "outputs": [
    {
     "data": {
      "text/plain": [
       "42.985332"
      ]
     },
     "execution_count": 19,
     "metadata": {},
     "output_type": "execute_result"
    }
   ],
   "source": [
    "pop_ages['Ages'].mean()"
   ]
  },
  {
   "cell_type": "markdown",
   "metadata": {},
   "source": [
    "We can create several such confidence intervals and visualize them to get a better sense of what it means to \"capture\" the true mean. \n",
    "\n",
    "Let's set a sample size of 1000 and take 25 samples to calculate the confidence intervals using the function above. "
   ]
  },
  {
   "cell_type": "code",
   "execution_count": 20,
   "metadata": {},
   "outputs": [],
   "source": [
    "np.random.seed(12)\n",
    "\n",
    "# Select the sample size \n",
    "sample_size = 1000\n",
    "\n",
    "# Initialize lists to store interval and mean values\n",
    "intervals = []\n",
    "sample_means = []\n",
    "\n",
    "# Run a for loop for sampling 25 times and calculate + store confidence interval and sample mean values\n",
    "\n",
    "for sample in range(25):\n",
    "    # Take a random sample of chosen size \n",
    "    sample = np.random.choice(population_ages, sample_size)\n",
    "    \n",
    "    # Calculate z_critical, margin_of_error, confidence_interval from function above\n",
    "    z_critical, margin_of_error, confidence_interval = conf_interval(population_ages, sample)    \n",
    "\n",
    "    sample_mean = sample.mean()\n",
    "    \n",
    "    # Calculate and append sample means and conf intervals for each iteration\n",
    "    sample_means.append(sample_mean)\n",
    "    intervals.append(confidence_interval)\n"
   ]
  },
  {
   "cell_type": "code",
   "execution_count": 21,
   "metadata": {
    "scrolled": true
   },
   "outputs": [
    {
     "data": {
      "text/plain": [
       "[42.895,\n",
       " 43.032,\n",
       " 43.99,\n",
       " 42.789,\n",
       " 42.488,\n",
       " 43.568,\n",
       " 42.52,\n",
       " 42.809,\n",
       " 42.385,\n",
       " 43.28,\n",
       " 43.066,\n",
       " 42.961,\n",
       " 42.867,\n",
       " 42.997,\n",
       " 43.011,\n",
       " 43.231,\n",
       " 42.522,\n",
       " 43.457,\n",
       " 43.098,\n",
       " 43.082,\n",
       " 42.305,\n",
       " 42.646,\n",
       " 43.953,\n",
       " 42.805,\n",
       " 43.176]"
      ]
     },
     "execution_count": 21,
     "metadata": {},
     "output_type": "execute_result"
    }
   ],
   "source": [
    "sample_means"
   ]
  },
  {
   "cell_type": "code",
   "execution_count": 25,
   "metadata": {},
   "outputs": [],
   "source": [
    "yerr = [(y - x) / 2 for x, y in intervals]"
   ]
  },
  {
   "cell_type": "code",
   "execution_count": 34,
   "metadata": {},
   "outputs": [
    {
     "data": {
      "text/plain": [
       "<matplotlib.lines.Line2D at 0x7fef114952e0>"
      ]
     },
     "execution_count": 34,
     "metadata": {},
     "output_type": "execute_result"
    },
    {
     "data": {
      "image/png": "[encoded data removed]",
      "text/plain": [
       "<Figure size 1080x576 with 1 Axes>"
      ]
     },
     "metadata": {
      "image/png": {
       "height": 462,
       "width": 979
      },
      "needs_background": "light"
     },
     "output_type": "display_data"
    }
   ],
   "source": [
    "# plot the mean and confidence interval for each sample as error bars\n",
    "# plot the population mean \n",
    "\n",
    "plt.figure(figsize=(15,8))\n",
    "plt.errorbar(x = range(25), y = sample_means, yerr = yerr, fmt = 'bo')\n",
    "plt.axhline(population_ages.mean(), ls = '--', color = 'r', lw = 2)"
   ]
  },
  {
   "cell_type": "markdown",
   "metadata": {},
   "source": [
    "Notice that in the plot above, most of the 95% confidence intervals overlap the red line marking the true mean. This is to be expected: since a 95% confidence interval captures the true mean 95% of the time, we'd expect our interval to miss the true mean 5% of the time.\n",
    "\n",
    "## Interpreting the Confidence Interval\n",
    "\n",
    "There are two interpretations we can derive from the above simulation, and one of them is wrong.\n",
    "\n",
    "\n",
    "**Interpretation 1 (incorrect):**\n",
    "> There is a 95% probability that the mean voter age is between 41.6 and 43.9.\n",
    "\n",
    "**Interpretation 2 (correct):**\n",
    " >If we pulled 100 samples and constructed confidence intervals in the same manner, we would expect that 95 of the intervals would contain the true mean of population age. \n",
    "\n",
    "Why is interpretation 1 wrong? It assigns a probability to the true value. In Frequentist statistics, the true value is fixed and the data is random. Confidence intervals make a statement of probability about the confidence interval range that could contain the true value."
   ]
  },
  {
   "cell_type": "markdown",
   "metadata": {},
   "source": [
    "## Summary\n",
    "\n",
    "In this lab, we saw an introduction to confidence intervals and how to construct them from random samples. We also saw how due to the central limit theorem, the mean of sample means tends to be a normal distribution even if the population is bimodal. We also saw how the z-critical value can be used to define the confidence interval based on a confidence level required and the size of samples. We learned how to correctly interpret a confidence interval. "
   ]
  }
 ],
 "metadata": {
  "kernelspec": {
   "display_name": "Python 3",
   "language": "python",
   "name": "python3"
  },
  "language_info": {
   "codemirror_mode": {
    "name": "ipython",
    "version": 3
   },
   "file_extension": ".py",
   "mimetype": "text/x-python",
   "name": "python",
   "nbconvert_exporter": "python",
   "pygments_lexer": "ipython3",
   "version": "3.8.5"
  },
  "toc": {
   "base_numbering": 1,
   "nav_menu": {},
   "number_sections": true,
   "sideBar": true,
   "skip_h1_title": false,
   "title_cell": "Table of Contents",
   "title_sidebar": "Contents",
   "toc_cell": false,
   "toc_position": {},
   "toc_section_display": true,
   "toc_window_display": false
  }
 },
 "nbformat": 4,
 "nbformat_minor": 2
}
