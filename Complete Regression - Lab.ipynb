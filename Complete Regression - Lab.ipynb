{
 "cells": [
  {
   "cell_type": "markdown",
   "metadata": {},
   "source": [
    "# Complete Regression - Lab\n",
    "\n",
    "## Introduction\n",
    "By now, you have created all the necessary functions to calculate the slope, intercept, best-fit line, prediction, and visualizations. In this lab you will put them all together to run a regression experiment and calculate the model loss. \n",
    "\n",
    "## Objectives\n",
    "\n",
    "You will be able to:\n",
    "\n",
    "* Perform a linear regression using self-constructed functions\n",
    "* Calculate the coefficient of determination using self-constructed functions\n",
    "* Use the coefficient of determination to determine model performance\n",
    "\n",
    "## The formulas\n",
    "\n",
    "**Slope**: \n",
    "$\\hat m = \\dfrac{\\overline{x}*\\overline{y}-\\overline{xy}}{(\\overline{x})^2-\\overline{x^2}}$\n",
    "\n",
    "\n",
    "**Intercept**: $ \\hat c = \\bar{y} - \\hat m\\bar{x}$\n",
    "\n",
    "**Prediction**: $\\hat{y} = \\hat mx + \\hat c$\n",
    "\n",
    "**R-Squared**: \n",
    "$ R^2 = 1- \\dfrac{SS_{RES}}{SS_{TOT}} = 1 - \\dfrac{\\sum_i(y_i - \\hat y_i)^2}{\\sum_i(y_i - \\overline y_i)^2} $\n",
    "\n",
    "\n",
    "Use the Python functions created earlier to implement these formulas to run a regression analysis using x and y as input variables. "
   ]
  },
  {
   "cell_type": "code",
   "execution_count": 69,
   "metadata": {},
   "outputs": [],
   "source": [
    "import numpy as np\n",
    "import matplotlib.pyplot as plt\n",
    "%matplotlib inline\n",
    "\n",
    "from matplotlib import style\n",
    "style.use('ggplot')"
   ]
  },
  {
   "cell_type": "code",
   "execution_count": 70,
   "metadata": {},
   "outputs": [],
   "source": [
    "# Combine all the functions created so far to run a complete regression experiment. \n",
    "# Produce an output similar to the one shown below. \n",
    "\n",
    "X = np.array([1, 2, 3, 4, 5, 6, 7, 8, 9, 10], dtype=np.float64)\n",
    "Y = np.array([7, 7, 8, 9, 9, 10, 10, 11, 11, 12], dtype=np.float64)\n"
   ]
  },
  {
   "cell_type": "code",
   "execution_count": 71,
   "metadata": {},
   "outputs": [
    {
     "name": "stdout",
     "output_type": "stream",
     "text": [
      "Basic Regression Diangnostics\n",
      "------------------------------\n",
      "Slope: 0.56\n",
      "Y-intercept: 6.32\n",
      "R-squared: 0.9715151515151514\n",
      "------------------------------\n",
      "Model: Y = 0.56 * x + 6.32\n"
     ]
    },
    {
     "data": {
      "image/png": "[encoded data removed]",
      "text/plain": [
       "<Figure size 432x288 with 1 Axes>"
      ]
     },
     "metadata": {},
     "output_type": "display_data"
    }
   ],
   "source": [
    "def slope(x, y):\n",
    "    numerator = x.mean() * y.mean() - (x*y).mean()\n",
    "    denominator = (x.mean())**2 - (x**2).mean()\n",
    "    return round(numerator / denominator, 2)\n",
    "\n",
    "m = slope(X, Y)\n",
    "\n",
    "def intercept(x, y, slope):\n",
    "    return y.mean() - slope * x.mean()\n",
    "\n",
    "c = intercept(X, Y, m)\n",
    "\n",
    "def best_fit(slope, intercept, x):\n",
    "    return [x_element * slope + intercept for x_element in x]\n",
    "\n",
    "y_pred = best_fit(m, c, X)\n",
    "\n",
    "def r_squared(y, y_hat):\n",
    "    num = sum([(y1 - y2)**2 for y1, y2 in zip(y, y_hat)])\n",
    "    y_mean = y.mean()\n",
    "    denom = sum([(y1 - y_mean)**2 for y1 in y])\n",
    "    return 1 - (num / denom)\n",
    "\n",
    "r_sq = r_squared(Y, y_pred)\n",
    "\n",
    "plt.scatter(X, Y, color = 'k', label = 'Data')\n",
    "plt.plot(X, best_fit(m, c, X), label = 'Regression Line')\n",
    "plt.legend()\n",
    "\n",
    "print('Basic Regression Diangnostics')\n",
    "print('------------------------------')\n",
    "print(f'Slope: {m}')\n",
    "print(f'Y-intercept: {c}')\n",
    "print(f'R-squared: {r_sq}')\n",
    "print('------------------------------')\n",
    "print(f'Model: Y = {m} * x + {c}')"
   ]
  },
  {
   "cell_type": "markdown",
   "metadata": {},
   "source": [
    "## Make Predictions\n",
    "\n",
    "Predict and plot the value of y using regression line above for a new value of $x = 4.5$."
   ]
  },
  {
   "cell_type": "code",
   "execution_count": 72,
   "metadata": {},
   "outputs": [
    {
     "data": {
      "text/plain": [
       "<matplotlib.legend.Legend at 0x7fb948766a00>"
      ]
     },
     "execution_count": 72,
     "metadata": {},
     "output_type": "execute_result"
    },
    {
     "data": {
      "image/png": "[encoded data removed]",
      "text/plain": [
       "<Figure size 432x288 with 1 Axes>"
      ]
     },
     "metadata": {},
     "output_type": "display_data"
    }
   ],
   "source": [
    "# Make prediction for x = 4.5 and visualize on the scatter plot\n",
    "x_new = 4.5\n",
    "y_new = m * x_new + c\n",
    "\n",
    "plt.scatter(X, Y, color = 'k', label = 'Data')\n",
    "plt.plot(X, y_pred, color = 'r', label = 'Regression Line')\n",
    "plt.scatter(x_new, y_new, color = 'b', label = 'Prediction')\n",
    "plt.legend()"
   ]
  },
  {
   "cell_type": "markdown",
   "metadata": {},
   "source": [
    "## Level up - Optional \n",
    "Load the \"`heightweight.csv`\" dataset. Use the height as an independent and weight as a dependent variable and draw a regression line to data using your code above. Calculate your R-Squared value for the model and try to predict new values of y. \n",
    "\n"
   ]
  },
  {
   "cell_type": "code",
   "execution_count": 73,
   "metadata": {
    "scrolled": true
   },
   "outputs": [
    {
     "data": {
      "text/html": [
       "<div>\n",
       "<style scoped>\n",
       "    .dataframe tbody tr th:only-of-type {\n",
       "        vertical-align: middle;\n",
       "    }\n",
       "\n",
       "    .dataframe tbody tr th {\n",
       "        vertical-align: top;\n",
       "    }\n",
       "\n",
       "    .dataframe thead th {\n",
       "        text-align: right;\n",
       "    }\n",
       "</style>\n",
       "<table border=\"1\" class=\"dataframe\">\n",
       "  <thead>\n",
       "    <tr style=\"text-align: right;\">\n",
       "      <th></th>\n",
       "      <th>height</th>\n",
       "      <th>weight</th>\n",
       "    </tr>\n",
       "  </thead>\n",
       "  <tbody>\n",
       "    <tr>\n",
       "      <th>0</th>\n",
       "      <td>68</td>\n",
       "      <td>165</td>\n",
       "    </tr>\n",
       "    <tr>\n",
       "      <th>1</th>\n",
       "      <td>71</td>\n",
       "      <td>201</td>\n",
       "    </tr>\n",
       "    <tr>\n",
       "      <th>2</th>\n",
       "      <td>61</td>\n",
       "      <td>140</td>\n",
       "    </tr>\n",
       "    <tr>\n",
       "      <th>3</th>\n",
       "      <td>69</td>\n",
       "      <td>170</td>\n",
       "    </tr>\n",
       "    <tr>\n",
       "      <th>4</th>\n",
       "      <td>71</td>\n",
       "      <td>192</td>\n",
       "    </tr>\n",
       "  </tbody>\n",
       "</table>\n",
       "</div>"
      ],
      "text/plain": [
       "   height  weight\n",
       "0      68     165\n",
       "1      71     201\n",
       "2      61     140\n",
       "3      69     170\n",
       "4      71     192"
      ]
     },
     "execution_count": 73,
     "metadata": {},
     "output_type": "execute_result"
    }
   ],
   "source": [
    "import pandas as pd\n",
    "\n",
    "df = pd.read_csv('heightweight.csv')\n",
    "df.head()"
   ]
  },
  {
   "cell_type": "code",
   "execution_count": 74,
   "metadata": {},
   "outputs": [],
   "source": [
    "m = slope(df['height'], df['weight'])\n",
    "c = intercept(df['height'], df['weight'], m)\n",
    "y_pred = best_fit(m, c, df['height'])\n",
    "r_sq = r_squared(df['weight'], y_pred)"
   ]
  },
  {
   "cell_type": "code",
   "execution_count": 75,
   "metadata": {
    "scrolled": true
   },
   "outputs": [
    {
     "name": "stdout",
     "output_type": "stream",
     "text": [
      "Basic Regression Diangnostics\n",
      "------------------------------\n",
      "Slope: 5.54\n",
      "Y-intercept: -204.54899999999998\n",
      "R-squared: 0.9553098989164241\n",
      "------------------------------\n",
      "Model: Y = 5.54 * x + -204.54899999999998\n"
     ]
    },
    {
     "data": {
      "image/png": "[encoded data removed]",
      "text/plain": [
       "<Figure size 432x288 with 1 Axes>"
      ]
     },
     "metadata": {},
     "output_type": "display_data"
    }
   ],
   "source": [
    "plt.scatter(df['height'], df['weight'], color = 'k', label = 'Data')\n",
    "plt.plot(df['height'], best_fit(m, c, df['height']), label = 'Regression Line')\n",
    "plt.legend()\n",
    "\n",
    "print('Basic Regression Diangnostics')\n",
    "print('------------------------------')\n",
    "print(f'Slope: {m}')\n",
    "print(f'Y-intercept: {c}')\n",
    "print(f'R-squared: {r_sq}')\n",
    "print('------------------------------')\n",
    "print(f'Model: Y = {m} * x + {c}')"
   ]
  },
  {
   "cell_type": "code",
   "execution_count": 76,
   "metadata": {},
   "outputs": [
    {
     "name": "stdout",
     "output_type": "stream",
     "text": [
      "Basic Regression Diangnostics\n",
      "------------------------------\n",
      "Slope: 5.54\n",
      "Y-intercept: -204.54899999999998\n",
      "R-squared: 0.9553098989164241\n",
      "------------------------------\n",
      "Model: Y = 5.54 * x + -204.54899999999998\n"
     ]
    },
    {
     "data": {
      "image/png": "[encoded data removed]",
      "text/plain": [
       "<Figure size 432x288 with 1 Axes>"
      ]
     },
     "metadata": {},
     "output_type": "display_data"
    }
   ],
   "source": [
    "plt.scatter(df['height'], df['weight'], color = 'k', label = 'Data')\n",
    "plt.plot(df['height'], best_fit(m, c, df['height']), label = 'Regression Line')\n",
    "plt.scatter(70.1, 70.1 * m + c, color = 'b', label = f'Prediction: {70.1 * m + c}', s = 100)\n",
    "plt.legend()\n",
    "\n",
    "print('Basic Regression Diangnostics')\n",
    "print('------------------------------')\n",
    "print(f'Slope: {m}')\n",
    "print(f'Y-intercept: {c}')\n",
    "print(f'R-squared: {r_sq}')\n",
    "print('------------------------------')\n",
    "print(f'Model: Y = {m} * x + {c}')"
   ]
  },
  {
   "cell_type": "markdown",
   "metadata": {},
   "source": [
    "## Summary\n",
    "\n",
    "In this lab, we ran a complete simple regression analysis experiment using functions created so far. Next up, you'll learn how you can use Python's built-in modules to perform similar analyses with a much higher level of sophistication. "
   ]
  }
 ],
 "metadata": {
  "kernelspec": {
   "display_name": "Python 3",
   "language": "python",
   "name": "python3"
  },
  "language_info": {
   "codemirror_mode": {
    "name": "ipython",
    "version": 3
   },
   "file_extension": ".py",
   "mimetype": "text/x-python",
   "name": "python",
   "nbconvert_exporter": "python",
   "pygments_lexer": "ipython3",
   "version": "3.8.5"
  }
 },
 "nbformat": 4,
 "nbformat_minor": 2
}
